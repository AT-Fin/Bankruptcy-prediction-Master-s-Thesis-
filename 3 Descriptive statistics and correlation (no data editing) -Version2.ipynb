{
 "cells": [
  {
   "cell_type": "markdown",
   "metadata": {},
   "source": [
    "### Descriptive statistics and correlation of predictors (no data editing)"
   ]
  },
  {
   "cell_type": "code",
   "execution_count": 1,
   "metadata": {},
   "outputs": [],
   "source": [
    "import numpy as np\n",
    "import pandas as pd\n",
    "import matplotlib.pyplot as plt\n",
    "import seaborn as sns\n",
    "\n",
    "from scipy.stats import mannwhitneyu, kstest"
   ]
  },
  {
   "cell_type": "code",
   "execution_count": 2,
   "metadata": {},
   "outputs": [],
   "source": [
    "# ***** LOAD DATAFRAME: df2 *****\n",
    "\n",
    "path = \"C:/Users/Aleksi/ownCloud/Vaasan Yliopisto/Gradu/Python codes/FIN/New_Version/\"\n",
    "df2 = pd.read_csv(filepath_or_buffer=path+'df2.txt')\n",
    "df2.drop('Unnamed: 0',inplace=True,axis=1)\n",
    "\n",
    "b = df2['status']==1 # mask for bankrupt\n",
    "h = df2['status']==0 # mask for healthy/active"
   ]
  },
  {
   "cell_type": "code",
   "execution_count": 3,
   "metadata": {},
   "outputs": [],
   "source": [
    "def descriptive_stat(df):\n",
    "    \"\"\"This function returns a descriptive statistics from\n",
    "    columns of DataFrame: returns df object\"\"\"\n",
    "    \n",
    "    desc = df.describe()\n",
    "    desc.loc['median',:] = 0              # create empty row for median\n",
    "    ind = desc.index                      # get indexes\n",
    "    order = [0,1,len(ind)-1,2,3,4,5,6,7]  # create order for indexes\n",
    "    ind = [ind[i] for i in order]         # edit the original list\n",
    "    desc = desc.reindex(ind)              # reindex the df\n",
    "    \n",
    "    for col in df:\n",
    "        desc.loc['median',col] = df.loc[:,col].median()\n",
    "        \n",
    "    return round(desc,3)\n",
    "    "
   ]
  },
  {
   "cell_type": "code",
   "execution_count": 4,
   "metadata": {},
   "outputs": [],
   "source": [
    "# ****** KOLMOGOROV-SMIRNOV TEST *****\n",
    "#\n",
    "# KS tests the equality of the distributions\n",
    "\n",
    "# kstest()\n"
   ]
  },
  {
   "cell_type": "code",
   "execution_count": 5,
   "metadata": {},
   "outputs": [
    {
     "ename": "NameError",
     "evalue": "name 't_0' is not defined",
     "output_type": "error",
     "traceback": [
      "\u001b[1;31m---------------------------------------------------------------------------\u001b[0m",
      "\u001b[1;31mNameError\u001b[0m                                 Traceback (most recent call last)",
      "\u001b[1;32m<ipython-input-5-ec10692ad8dc>\u001b[0m in \u001b[0;36m<module>\u001b[1;34m\u001b[0m\n\u001b[0;32m      6\u001b[0m \u001b[0mmann_results\u001b[0m \u001b[1;33m=\u001b[0m \u001b[0mpd\u001b[0m\u001b[1;33m.\u001b[0m\u001b[0mDataFrame\u001b[0m\u001b[1;33m(\u001b[0m\u001b[0mcolumns\u001b[0m\u001b[1;33m=\u001b[0m\u001b[1;33m[\u001b[0m\u001b[1;34m'Value'\u001b[0m\u001b[1;33m,\u001b[0m\u001b[1;34m'p-value'\u001b[0m\u001b[1;33m]\u001b[0m\u001b[1;33m,\u001b[0m\u001b[0mindex\u001b[0m\u001b[1;33m=\u001b[0m\u001b[0mx_pred\u001b[0m\u001b[1;33m)\u001b[0m\u001b[1;33m\u001b[0m\u001b[1;33m\u001b[0m\u001b[0m\n\u001b[0;32m      7\u001b[0m \u001b[1;33m\u001b[0m\u001b[0m\n\u001b[1;32m----> 8\u001b[1;33m \u001b[1;32mfor\u001b[0m \u001b[0mi\u001b[0m \u001b[1;32min\u001b[0m \u001b[0mrange\u001b[0m\u001b[1;33m(\u001b[0m\u001b[0mlen\u001b[0m\u001b[1;33m(\u001b[0m\u001b[0mt_0\u001b[0m\u001b[1;33m)\u001b[0m\u001b[1;33m)\u001b[0m\u001b[1;33m:\u001b[0m\u001b[1;33m\u001b[0m\u001b[1;33m\u001b[0m\u001b[0m\n\u001b[0m\u001b[0;32m      9\u001b[0m \u001b[1;33m\u001b[0m\u001b[0m\n\u001b[0;32m     10\u001b[0m     \u001b[0mmann_w\u001b[0m \u001b[1;33m=\u001b[0m \u001b[0mmannwhitneyu\u001b[0m\u001b[1;33m(\u001b[0m\u001b[0mdf2\u001b[0m\u001b[1;33m.\u001b[0m\u001b[0mloc\u001b[0m\u001b[1;33m[\u001b[0m\u001b[0mb\u001b[0m\u001b[1;33m,\u001b[0m\u001b[0mx_pred\u001b[0m\u001b[1;33m[\u001b[0m\u001b[0mi\u001b[0m\u001b[1;33m]\u001b[0m\u001b[1;33m]\u001b[0m\u001b[1;33m,\u001b[0m\u001b[0mdf2\u001b[0m\u001b[1;33m.\u001b[0m\u001b[0mloc\u001b[0m\u001b[1;33m[\u001b[0m\u001b[0mh\u001b[0m\u001b[1;33m,\u001b[0m\u001b[0mx_pred\u001b[0m\u001b[1;33m[\u001b[0m\u001b[0mi\u001b[0m\u001b[1;33m]\u001b[0m\u001b[1;33m]\u001b[0m\u001b[1;33m)\u001b[0m\u001b[1;33m\u001b[0m\u001b[1;33m\u001b[0m\u001b[0m\n",
      "\u001b[1;31mNameError\u001b[0m: name 't_0' is not defined"
     ]
    }
   ],
   "source": [
    "# ***** MANN WHITNEY U TEST *****\n",
    "#\n",
    "# The Mann-Whitney U-test tests the equality of medians\n",
    "\n",
    "x_pred = ['X1','X2','X3','X4'] \n",
    "mann_results = pd.DataFrame(columns=['Value','p-value'],index=x_pred)\n",
    "\n",
    "for i in range(len(t_0)):\n",
    "\n",
    "    mann_w = mannwhitneyu(df2.loc[b,x_pred[i]],df2.loc[h,x_pred[i]])\n",
    "    mann_results.iloc[i,0] = round(mann_w[0],2)\n",
    "    mann_results.iloc[i,1] = mann_w[1]    \n",
    "    \n",
    "print(mann_results)\n",
    "mann_results.to_csv('mann.txt')"
   ]
  },
  {
   "cell_type": "code",
   "execution_count": null,
   "metadata": {},
   "outputs": [],
   "source": [
    "# ***** YEARS *****\n",
    "\n",
    "fig, axes = plt.subplots(1,1,  sharex=True)\n",
    "\n",
    "sns.distplot(df2.loc[b,'Last avail. year'])\n",
    "\n",
    "plt.tight_layout()\n",
    "plt.show()"
   ]
  },
  {
   "cell_type": "markdown",
   "metadata": {},
   "source": [
    "### Correlation of predictors"
   ]
  },
  {
   "cell_type": "code",
   "execution_count": null,
   "metadata": {},
   "outputs": [],
   "source": [
    "# ***** CORRELATION OF PREDICTORS *****\n",
    "\n",
    "df2.loc[:,x_pred].corr()\n"
   ]
  },
  {
   "cell_type": "code",
   "execution_count": null,
   "metadata": {},
   "outputs": [],
   "source": [
    "pd.concat([ descriptive_stat(df2.loc[h,['X1','X2','X3','X4']]) ,\n",
    "           \n",
    "           descriptive_stat(df2.loc[b,['X1','X2','X3','X4']])]  ,axis=1)\n",
    "           \n",
    "           \n",
    "           \n",
    "           \n",
    "           \n",
    "           "
   ]
  },
  {
   "cell_type": "code",
   "execution_count": null,
   "metadata": {},
   "outputs": [],
   "source": [
    "plt.plot()"
   ]
  }
 ],
 "metadata": {
  "kernelspec": {
   "display_name": "Python 3",
   "language": "python",
   "name": "python3"
  },
  "language_info": {
   "codemirror_mode": {
    "name": "ipython",
    "version": 3
   },
   "file_extension": ".py",
   "mimetype": "text/x-python",
   "name": "python",
   "nbconvert_exporter": "python",
   "pygments_lexer": "ipython3",
   "version": "3.7.7"
  }
 },
 "nbformat": 4,
 "nbformat_minor": 4
}
