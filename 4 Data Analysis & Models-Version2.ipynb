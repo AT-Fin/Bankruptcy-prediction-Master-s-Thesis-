{
 "cells": [
  {
   "cell_type": "markdown",
   "metadata": {},
   "source": [
    "# Data analysis \n",
    "Data split, model creation (logistic regression, random forest and Z''-score) & model validation"
   ]
  },
  {
   "cell_type": "code",
   "execution_count": 44,
   "metadata": {},
   "outputs": [],
   "source": [
    "import numpy as np\n",
    "import pandas as pd\n",
    "import matplotlib.pyplot as plt\n",
    "import seaborn as sns\n",
    "\n",
    "from sklearn import preprocessing\n",
    "from sklearn.model_selection import train_test_split\n",
    "from sklearn.ensemble import RandomForestClassifier\n",
    "from sklearn.linear_model import LogisticRegression\n",
    "from sklearn.discriminant_analysis import LinearDiscriminantAnalysis, QuadraticDiscriminantAnalysis\n",
    "import xgboost as xgb\n",
    "\n",
    "from sklearn import metrics\n",
    "from sklearn.metrics import confusion_matrix, roc_curve,auc, classification_report"
   ]
  },
  {
   "cell_type": "code",
   "execution_count": 45,
   "metadata": {},
   "outputs": [
    {
     "name": "stdout",
     "output_type": "stream",
     "text": [
      "Bankrupt firms: 2.68 % Healthy firms: 97.32 % \n",
      " Shape: (96995, 28)\n"
     ]
    }
   ],
   "source": [
    "# ***** LOAD DATAFRAME: df2 *****\n",
    "\n",
    "path = \"C:/Users/Aleksi/ownCloud/Vaasan Yliopisto/Gradu/Python codes/FIN/New_Version/\"\n",
    "df2 = pd.read_csv(filepath_or_buffer=path+'df2.txt')\n",
    "df2.drop('Unnamed: 0',inplace=True,axis=1)\n",
    "\n",
    "b = df2['status']==1 # mask for bankrupt\n",
    "h = df2['status']==0 # mask for healthy/active\n",
    "\n",
    "print('Bankrupt firms:',round((b.sum()/len(df2))*100,2),'%',\n",
    "      'Healthy firms:',100-round((b.sum()/len(df2))*100,2),'%','\\n',\n",
    "      'Shape:', df2.shape)"
   ]
  },
  {
   "cell_type": "markdown",
   "metadata": {},
   "source": [
    "### Data Split"
   ]
  },
  {
   "cell_type": "code",
   "execution_count": 46,
   "metadata": {},
   "outputs": [
    {
     "data": {
      "text/plain": [
       "(5190, 28)"
      ]
     },
     "execution_count": 46,
     "metadata": {},
     "output_type": "execute_result"
    }
   ],
   "source": [
    "# REDUCE THE PROPORTION OF HEALTHY FIRMS (OPTIONAL!)\n",
    "\n",
    "np.random.seed(1)\n",
    "rows = np.random.randint(0,h.sum()-1,len(df2[b])) # choose random rows (start,last, n instances)\n",
    "healthy = df2[h] # df of  healthy firms\n",
    "healthy = healthy.iloc[rows,:] # pick random rows\n",
    "df3 = healthy.append(df2[b], ignore_index=True) # join together\n",
    "df3.shape"
   ]
  },
  {
   "cell_type": "code",
   "execution_count": 65,
   "metadata": {},
   "outputs": [
    {
     "name": "stdout",
     "output_type": "stream",
     "text": [
      "Split ratio 0.2 \n",
      "\n",
      "          rows  columns\n",
      "X_train  4152      5.0\n",
      "X_val    1038      5.0\n",
      "y_train  4152      NaN\n",
      "y_val    1038      NaN\n"
     ]
    }
   ],
   "source": [
    "# ***** SPLIT INTO TRAINING AND VALIDATION SETS *****\n",
    "\n",
    "\n",
    "# firm-specific:      X1 X2 X3 X4\n",
    "# macro economic:     GDP change %, Household debt %, Household interest %, M3, M3 -1\n",
    "\n",
    "\n",
    "# variables to choose\n",
    "t_0 = ['X1','X2','X3','X4', 'Household interest %']\n",
    "\n",
    "\n",
    "# X (predictor matrix), y (label vector)\n",
    "X = df3.loc[:,t_0]\n",
    "X_Z = df3.loc[:,['X1','X2','X3','X4']] # for Z''-score\n",
    "y = df3.loc[:,'status']\n",
    "\n",
    "\n",
    "\n",
    "# STANDARDIZE FEATURES for other than Z-''score model\n",
    "\n",
    "# scaler = preprocessing.StandardScaler()\n",
    "# X = pd.DataFrame(scaler.fit_transform(X),columns=t_0)\n",
    "\n",
    "\n",
    "# TRAINING AND VALIDATION SET\n",
    "\n",
    "split_ratio = 0.2    # percentage of data used for validation\n",
    "\n",
    "# Standardized and non-standardized split (Z''-score)\n",
    "X_train, X_val, y_train, y_val = train_test_split(X, y, test_size=split_ratio, random_state=2)\n",
    "X_train_Z, X_val_Z, y_train_Z, y_val_Z = train_test_split(X_Z, y, test_size=split_ratio, random_state=2)\n",
    "\n",
    "\n",
    "subsets = pd.DataFrame(data=[X_train.shape, X_val.shape, y_train.shape, y_val.shape], \n",
    "                       index=['X_train','X_val','y_train','y_val'],\n",
    "                       columns=['rows','columns'])\n",
    "print('Split ratio',split_ratio,2*'\\n',subsets)\n"
   ]
  },
  {
   "cell_type": "markdown",
   "metadata": {},
   "source": [
    "###  Logistic Regression"
   ]
  },
  {
   "cell_type": "code",
   "execution_count": 66,
   "metadata": {},
   "outputs": [
    {
     "data": {
      "text/html": [
       "<div>\n",
       "<style scoped>\n",
       "    .dataframe tbody tr th:only-of-type {\n",
       "        vertical-align: middle;\n",
       "    }\n",
       "\n",
       "    .dataframe tbody tr th {\n",
       "        vertical-align: top;\n",
       "    }\n",
       "\n",
       "    .dataframe thead th {\n",
       "        text-align: right;\n",
       "    }\n",
       "</style>\n",
       "<table border=\"1\" class=\"dataframe\">\n",
       "  <thead>\n",
       "    <tr style=\"text-align: right;\">\n",
       "      <th></th>\n",
       "      <th>Intercept</th>\n",
       "      <th>X1</th>\n",
       "      <th>X2</th>\n",
       "      <th>X3</th>\n",
       "      <th>X4</th>\n",
       "      <th>GDP %</th>\n",
       "    </tr>\n",
       "  </thead>\n",
       "  <tbody>\n",
       "    <tr>\n",
       "      <th>Coefficients</th>\n",
       "      <td>-7.54126</td>\n",
       "      <td>-0.838905</td>\n",
       "      <td>-0.095289</td>\n",
       "      <td>-0.103379</td>\n",
       "      <td>-0.899776</td>\n",
       "      <td>4.580293</td>\n",
       "    </tr>\n",
       "  </tbody>\n",
       "</table>\n",
       "</div>"
      ],
      "text/plain": [
       "              Intercept        X1        X2        X3        X4     GDP %\n",
       "Coefficients   -7.54126 -0.838905 -0.095289 -0.103379 -0.899776  4.580293"
      ]
     },
     "execution_count": 66,
     "metadata": {},
     "output_type": "execute_result"
    }
   ],
   "source": [
    "logreg = LogisticRegression(C=1, random_state=0, fit_intercept=True)            # create RandomForest object\n",
    "logreg.fit(X_train,y_train)                                                     # train the model\n",
    "logreg_pred = logreg.predict(X_val)                                             # predict validation\n",
    "logreg_conf = logreg.decision_function(X_val)                                   # confidence of classification\n",
    "logreg_fpr, logreg_tpr, threshold_logreg = roc_curve(y_val, logreg_conf)        # ROC\n",
    "\n",
    "(pd.DataFrame({'Intercept':logreg.intercept_,\n",
    "              'X1':logreg.coef_[0][0],\n",
    "              'X2':logreg.coef_[0][1],\n",
    "              'X3':logreg.coef_[0][2],\n",
    "              'X4':logreg.coef_[0][3],\n",
    "              'GDP %':logreg.coef_[0][4]}, index=['Coefficients']))\n",
    "\n"
   ]
  },
  {
   "cell_type": "markdown",
   "metadata": {},
   "source": [
    "### Random Forest"
   ]
  },
  {
   "cell_type": "code",
   "execution_count": 67,
   "metadata": {},
   "outputs": [],
   "source": [
    "r_forest = RandomForestClassifier(n_estimators=100)                             # create RandomForest object\n",
    "r_forest.fit(X_train,y_train)                                                   # train the model\n",
    "r_forest_pred = r_forest.predict(X_val)                                         # predict validation\n",
    "r_forest_conf = r_forest.predict_proba(X_val)                                   # confidence of classification\n",
    "r_forest_fpr, r_forest_tpr, threshold_rf = roc_curve(y_val, r_forest_conf[:,1]) # ROC"
   ]
  },
  {
   "cell_type": "markdown",
   "metadata": {},
   "source": [
    "### Gradient Boosting (optional)"
   ]
  },
  {
   "cell_type": "code",
   "execution_count": 68,
   "metadata": {},
   "outputs": [],
   "source": [
    "# Use the XGBoost library\n",
    "\n",
    "# dtrain = xgb.DMatrix(X_train,y_train)\n"
   ]
  },
  {
   "cell_type": "markdown",
   "metadata": {},
   "source": [
    "### Original Z''-score "
   ]
  },
  {
   "cell_type": "code",
   "execution_count": 69,
   "metadata": {},
   "outputs": [],
   "source": [
    "# Calculate the original Z''-score value from validation set: Note that no training involved!\n",
    "z = 3.25+ \\\n",
    "    6.56*X_val_Z.iloc[:,0]+ \\\n",
    "    3.26*X_val_Z.iloc[:,1]+ \\\n",
    "    6.72*X_val_Z.iloc[:,2]+ \\\n",
    "    1.05*X_val_Z.iloc[:,3]           # Pandas Series object\n",
    "\n",
    "\n",
    "# CREATE A ROC CURVE WITH DIFFERENT TRESHOLDS: original treshold: 0 if Z > 2.6, 1 otherwise\n",
    "\n",
    "n_treshold = 150 # number of steps in treshold\n",
    "lin_vals =  np.linspace(-5,15,n_treshold)\n",
    "z_fpr_tpr = np.array([])\n",
    "\n",
    "# iterate with different tresholds and store each fpr & tpr\n",
    "for t in np.nditer(lin_vals):\n",
    "\n",
    "    z_pred = np.array([int(1) if i <= float(t) else int(0) for i in z])\n",
    "    z_fpr, z_tpr, threshold_z = roc_curve(y_val_Z, z_pred)\n",
    "    z_fpr_tpr = np.append(z_fpr_tpr, np.array([z_fpr[1],z_tpr[1]]), axis=0)\n",
    "\n",
    "z_fpr_tpr = z_fpr_tpr.reshape((n_treshold,2))\n",
    "z_fpr_tpr[0,:] = [0,0]  # first value: AUC purpose, force to be 0,0\n",
    "z_fpr_tpr[-1,:] = [1,1] # last value: for AUC purpose, force to be 1,1\n",
    "z_pred = np.array([int(1) if i <= 2.6 else int(0) for i in z]) # save the original treshold value 2.6 for report\n"
   ]
  },
  {
   "cell_type": "markdown",
   "metadata": {},
   "source": [
    "### Re-estimation of Z''-score? (Linear & Quadratic Discriminant Analysis)"
   ]
  },
  {
   "cell_type": "code",
   "execution_count": 70,
   "metadata": {},
   "outputs": [],
   "source": [
    "# ***** LINEAR DISCRIMINANT ANALYSIS *****\n",
    "\n",
    "lda = LinearDiscriminantAnalysis()\n",
    "lda.fit(X_train,y_train)\n",
    "lda_pred = lda.predict(X_val)\n",
    "\n",
    "lda_conf = lda.decision_function(X_val) # confidence of classification\n",
    "lda_fpr, lda_tpr, threshold_lda = roc_curve(y_val, lda_conf)\n",
    "\n",
    "\n",
    "\n",
    "# ***** QUADRATIC DISCRIMINANT ANALYSIS *****\n",
    "\n",
    "qda = QuadraticDiscriminantAnalysis()\n",
    "qda.fit(X_train,y_train)\n",
    "qda_pred = qda.predict(X_val)\n",
    "\n",
    "qda_conf = qda.decision_function(X_val) # confidence of classification\n",
    "qda_fpr, qda_tpr, threshold_qda = roc_curve(y_val, qda_conf)\n"
   ]
  },
  {
   "cell_type": "markdown",
   "metadata": {},
   "source": [
    "### Plot"
   ]
  },
  {
   "cell_type": "code",
   "execution_count": 71,
   "metadata": {},
   "outputs": [
    {
     "data": {
      "image/png": "[encoded data removed]",
      "text/plain": [
       "<Figure size 600x600 with 1 Axes>"
      ]
     },
     "metadata": {
      "needs_background": "light"
     },
     "output_type": "display_data"
    }
   ],
   "source": [
    "#  Generally, finding as many bankrupt firms as possible is more essential than for non-bankrupt.\n",
    "#  Thus, true positive rate (sensitivity) is a key metrics\n",
    "\n",
    "\n",
    "# ***** AUC GRAPH *****\n",
    "\n",
    "plt.figure(figsize=(6,6),dpi=100)\n",
    "\n",
    "plt.plot(logreg_fpr,logreg_tpr, linestyle='-', label='Logistic Regression %0.3f'% auc(logreg_fpr,logreg_tpr))\n",
    "plt.plot(r_forest_fpr, r_forest_tpr, linestyle=':', label='Random Forest %0.3f'% auc(r_forest_fpr, r_forest_tpr))\n",
    "# plt.plot(z_fpr_tpr[:,0], z_fpr_tpr[:,1], linestyle='-', label='Orig. Z''-score %0.3f'% auc(z_fpr_tpr[:,0], z_fpr_tpr[:,1]))\n",
    "plt.plot(lda_fpr, lda_tpr, linestyle='-', label='LDA %0.3f'% auc(lda_fpr, lda_tpr))\n",
    "plt.plot(qda_fpr, qda_tpr, linestyle='-', label='QDA %0.3f'% auc(qda_fpr, qda_tpr))\n",
    "\n",
    "plt.xlabel('False Positive Rate')\n",
    "plt.ylabel('True Positive Rate:  sensitivity | recall')\n",
    "plt.title('AUC graph')\n",
    "plt.legend()\n",
    "plt.show()\n"
   ]
  },
  {
   "cell_type": "code",
   "execution_count": 72,
   "metadata": {},
   "outputs": [
    {
     "data": {
      "text/html": [
       "<div>\n",
       "<style scoped>\n",
       "    .dataframe tbody tr th:only-of-type {\n",
       "        vertical-align: middle;\n",
       "    }\n",
       "\n",
       "    .dataframe tbody tr th {\n",
       "        vertical-align: top;\n",
       "    }\n",
       "\n",
       "    .dataframe thead th {\n",
       "        text-align: right;\n",
       "    }\n",
       "</style>\n",
       "<table border=\"1\" class=\"dataframe\">\n",
       "  <thead>\n",
       "    <tr style=\"text-align: right;\">\n",
       "      <th></th>\n",
       "      <th>Healthy</th>\n",
       "      <th>Bankrupt</th>\n",
       "    </tr>\n",
       "  </thead>\n",
       "  <tbody>\n",
       "    <tr>\n",
       "      <th>Logistic Regression</th>\n",
       "      <td>0.867159</td>\n",
       "      <td>0.784274</td>\n",
       "    </tr>\n",
       "    <tr>\n",
       "      <th>Random Forest</th>\n",
       "      <td>0.839483</td>\n",
       "      <td>0.875</td>\n",
       "    </tr>\n",
       "    <tr>\n",
       "      <th>Linear Discriminant Analysis</th>\n",
       "      <td>0.926199</td>\n",
       "      <td>0.421371</td>\n",
       "    </tr>\n",
       "    <tr>\n",
       "      <th>Quadratic Discriminant Analysis</th>\n",
       "      <td>0.961255</td>\n",
       "      <td>0.471774</td>\n",
       "    </tr>\n",
       "  </tbody>\n",
       "</table>\n",
       "</div>"
      ],
      "text/plain": [
       "                                  Healthy  Bankrupt\n",
       "Logistic Regression              0.867159  0.784274\n",
       "Random Forest                    0.839483     0.875\n",
       "Linear Discriminant Analysis     0.926199  0.421371\n",
       "Quadratic Discriminant Analysis  0.961255  0.471774"
      ]
     },
     "execution_count": 72,
     "metadata": {},
     "output_type": "execute_result"
    }
   ],
   "source": [
    "# CORRECT CLASSIFICATION BY MODEL\n",
    "\n",
    "correct_class = pd.DataFrame(columns=['Healthy','Bankrupt'],\n",
    "                            index=['Logistic Regression', 'Random Forest', \n",
    "                                   'Linear Discriminant Analysis',\n",
    "                                   'Quadratic Discriminant Analysis'])\n",
    "\n",
    "\n",
    "conf = confusion_matrix(y_val,logreg_pred)\n",
    "right_logreg = [(conf[0][0])/((conf[0][0])+(conf[0][1])),\n",
    "                (conf[1][1])/((conf[1][0])+(conf[1][1]))]\n",
    "\n",
    "conf = confusion_matrix(y_val,r_forest_pred)\n",
    "right_r_forest = [(conf[0][0])/((conf[0][0])+(conf[0][1])),\n",
    "                  (conf[1][1])/((conf[1][0])+(conf[1][1]))]\n",
    "\n",
    "#conf = confusion_matrix(y_val_Z,z_pred)\n",
    "#right_Z = [(conf[0][0])/((conf[0][0])+(conf[0][1])),\n",
    " #          (conf[1][1])/((conf[1][0])+(conf[1][1]))]\n",
    "\n",
    "conf = confusion_matrix(y_val,lda_pred)\n",
    "right_lda = [(conf[0][0])/((conf[0][0])+(conf[0][1])),\n",
    "             (conf[1][1])/((conf[1][0])+(conf[1][1]))]\n",
    "\n",
    "conf = confusion_matrix(y_val,qda_pred)\n",
    "right_qda = [(conf[0][0])/((conf[0][0])+(conf[0][1])),\n",
    "             (conf[1][1])/((conf[1][0])+(conf[1][1]))]\n",
    "\n",
    "list_right = [right_logreg,right_r_forest,right_Z,right_lda,right_qda]    \n",
    "\n",
    "for i in range(4):\n",
    "    correct_class.iloc[i,:] = list_right[i]\n",
    "    \n",
    "correct_class"
   ]
  }
 ],
 "metadata": {
  "kernelspec": {
   "display_name": "Python 3",
   "language": "python",
   "name": "python3"
  },
  "language_info": {
   "codemirror_mode": {
    "name": "ipython",
    "version": 3
   },
   "file_extension": ".py",
   "mimetype": "text/x-python",
   "name": "python",
   "nbconvert_exporter": "python",
   "pygments_lexer": "ipython3",
   "version": "3.7.7"
  }
 },
 "nbformat": 4,
 "nbformat_minor": 4
}
