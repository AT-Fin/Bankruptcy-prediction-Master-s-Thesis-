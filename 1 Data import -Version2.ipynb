{
 "cells": [
  {
   "cell_type": "code",
   "execution_count": 11,
   "metadata": {},
   "outputs": [],
   "source": [
    "import numpy as np\n",
    "import pandas as pd\n",
    "import time\n",
    "\n",
    "path = \"C:/Users/Aleksi/ownCloud/Vaasan Yliopisto/Gradu/Raw Data/Firm Data/New/\""
   ]
  },
  {
   "cell_type": "code",
   "execution_count": 12,
   "metadata": {},
   "outputs": [],
   "source": [
    "def na_value_analyzer(df):\n",
    "    \"\"\"This function calculates the sum and % of Na values in each column. Returns DataFrame\"\"\"\n",
    "    \n",
    "    x = pd.DataFrame(columns=['Column Name','NA count','% NA','non NA'])\n",
    "    \n",
    "    for col in df:\n",
    "        na_count = df[col].isna().sum()\n",
    "        x = x.append({'Column Name':col, \n",
    "                     'NA count':na_count, \n",
    "                     '% NA':round((na_count/len(df))*100,2),\n",
    "                     'non NA':len(df)-na_count}, ignore_index=True)\n",
    "    return x"
   ]
  },
  {
   "cell_type": "markdown",
   "metadata": {},
   "source": [
    "### Import data"
   ]
  },
  {
   "cell_type": "code",
   "execution_count": 13,
   "metadata": {
    "scrolled": true
   },
   "outputs": [
    {
     "name": "stdout",
     "output_type": "stream",
     "text": [
      "Import succesful. Time to execute was: \n",
      "0.037\n",
      "seconds\n",
      "Original bankrupt DataFrame size: \n",
      "(6138, 16)\n",
      "Bankrupt cleaned df size:  (2621, 16)\n"
     ]
    }
   ],
   "source": [
    "# BANKRUPT \n",
    "\n",
    "# Bankrupt, Active (rescue plan), Active (insolvency proceedings), Dissolved (Bankruptcy)\n",
    "\n",
    "\n",
    "start_time = time.time()\n",
    "bankrupt = pd.read_csv(filepath_or_buffer=path+\"Bankrupt.txt\",sep='\\t', encoding='UTF-16', na_values='')\n",
    "\n",
    "print(\"Import succesful. Time to execute was: \", round(time.time()-start_time,3),\"seconds\",\n",
    "      \"Original bankrupt DataFrame size: \", bankrupt.shape, sep='\\n')\n",
    "\n",
    "bankrupt.drop('Unnamed: 0', inplace=True, axis=1)\n",
    "\n",
    "# drop n.a. values\n",
    "bankrupt.dropna(inplace=True) # drop NA values rowwise\n",
    "\n",
    "# indicates bankruptcy\n",
    "bankrupt['status'] = 1 \n",
    "\n",
    "print(\"Bankrupt cleaned df size: \",bankrupt.shape)\n"
   ]
  },
  {
   "cell_type": "code",
   "execution_count": 14,
   "metadata": {
    "scrolled": true
   },
   "outputs": [
    {
     "name": "stdout",
     "output_type": "stream",
     "text": [
      "\n",
      "\n",
      "Original  active firm df size: \n",
      "(500000, 18)\n",
      "Time to execute was: \n",
      "3.321\n",
      "Cleaned active df size:  (95127, 16)\n"
     ]
    }
   ],
   "source": [
    "# ACTIVE\n",
    "\n",
    "start_time = time.time()\n",
    "active = pd.DataFrame() # empty DataFrame\n",
    "\n",
    "# open txt.- files\n",
    "for i in range(1,11):\n",
    "    \n",
    "    df = pd.read_csv(filepath_or_buffer=path+str(i)+'.txt', sep='\\t', encoding='UTF-16', na_values='')\n",
    "    active = active.append(df, ignore_index=True)\n",
    "\n",
    "print(1*'\\n') \n",
    "print(\"Original  active firm df size: \", active.shape,'Time to execute was: ',\n",
    "      round(time.time()-start_time,3), sep='\\n')\n",
    "\n",
    "# drop unnecessary values\n",
    "drop_cols = ['Unnamed: 0','Loans EUR Last avail. yr','Provisions EUR Last avail. yr']\n",
    "active.drop(drop_cols,axis=1, inplace=True)\n",
    "active.dropna(inplace=True) \n",
    "\n",
    "active['status'] = 0 # indicates non-bankrupt\n",
    "\n",
    "\n",
    "print(\"Cleaned active df size: \", active.shape)"
   ]
  },
  {
   "cell_type": "markdown",
   "metadata": {},
   "source": [
    "### Create single DataFrame (df)"
   ]
  },
  {
   "cell_type": "code",
   "execution_count": 15,
   "metadata": {
    "scrolled": false
   },
   "outputs": [],
   "source": [
    "# MERGE DATAFRAMES TOGETHER AND REMOVE DUPLICATE ROWS\n",
    "\n",
    "df = active.append(bankrupt, ignore_index=True)\n",
    "\n",
    "# change dtype from float to int\n",
    "df['NACE Rev. 2, core code (4 digits)'] = df['NACE Rev. 2, core code (4 digits)'].astype(int) \n",
    "df['Last avail. year'] = df['Last avail. year'].astype(int) # change to int\n",
    "\n",
    "# company name as index\n",
    "df = df.set_index('Company name') "
   ]
  },
  {
   "cell_type": "code",
   "execution_count": 16,
   "metadata": {},
   "outputs": [
    {
     "data": {
      "text/plain": [
       "Index(['Country ISO code', 'NACE Rev. 2, core code (4 digits)',\n",
       "       'Last avail. year', 'Operating revenue (Turnover) EUR Last avail. yr',\n",
       "       'Shareholders funds EUR Last avail. yr',\n",
       "       'Other shareholders funds EUR Last avail. yr',\n",
       "       'Capital EUR Last avail. yr', 'Working capital EUR Last avail. yr',\n",
       "       'Operating P/L [=EBIT] EUR Last avail. yr',\n",
       "       'P/L for period [=Net income] EUR Last avail. yr',\n",
       "       'Non-current liabilities EUR Last avail. yr',\n",
       "       'Current liabilities EUR Last avail. yr',\n",
       "       'Intangible fixed assets EUR Last avail. yr',\n",
       "       'Total assets EUR Last avail. yr', 'status'],\n",
       "      dtype='object')"
      ]
     },
     "execution_count": 16,
     "metadata": {},
     "output_type": "execute_result"
    }
   ],
   "source": [
    "df.columns"
   ]
  },
  {
   "cell_type": "markdown",
   "metadata": {},
   "source": [
    "### Outliers & clean"
   ]
  },
  {
   "cell_type": "code",
   "execution_count": 17,
   "metadata": {
    "scrolled": false
   },
   "outputs": [
    {
     "name": "stdout",
     "output_type": "stream",
     "text": [
      "Initial size: (97748, 15)\n",
      "DUPLICATES removed: (97738, 15)\n",
      "Negative REVENUE removed: (97725, 15)\n",
      "Zero and negative \"BALANCE SHEET TOTAL\" removed: (97721, 15)\n",
      "Negative TOTAL LIABILITIES removed: (97658, 16)\n",
      "\"tot_liab\" with value of \"0.0\" replaced with \"1.0\" 45 instances\n"
     ]
    }
   ],
   "source": [
    "print('Initial size:',df.shape)\n",
    "\n",
    "# DUPLICATES ? WHY ? --> remove\n",
    "duplicate_names = df[df.index.duplicated()].index.tolist() # make a list of duplicate company names\n",
    "df.drop(duplicate_names, axis=0, inplace=True) # remove all duplicates \n",
    "print('DUPLICATES removed:',df.shape)\n",
    "\n",
    "\n",
    "# Remove with NEGATIVE REVENUE\n",
    "neg_revenue = df['Operating revenue (Turnover) EUR Last avail. yr']<0\n",
    "df = df[~neg_revenue]\n",
    "print('Negative REVENUE removed:',df.shape)\n",
    "\n",
    "\n",
    "# Remove with \"BALANCE SHEET TOTAL\" <= 0: \"Total shareh. funds & liab.\" == \"Taseen loppusumma\"\n",
    "df = df[df['Total assets EUR Last avail. yr']>0]\n",
    "print('Zero and negative \"BALANCE SHEET TOTAL\" removed:',df.shape)\n",
    "\n",
    "\n",
    "# TOTAL LIABILITIES\n",
    "\n",
    "# create tot_liab = Current liabilities + Non-current liabilities\n",
    "\n",
    "df['tot_liab'] = df['Current liabilities EUR Last avail. yr'] + df['Non-current liabilities EUR Last avail. yr']\n",
    "\n",
    "\n",
    "# Negative total liabilities should be asset? --> remove all negative values\n",
    "df = df[df['tot_liab']>=0]\n",
    "print('Negative TOTAL LIABILITIES removed:',df.shape)\n",
    "\n",
    "\n",
    "# Dividing by 0 is not possible in X4 so values of 0.0 --> 1.0\n",
    "\n",
    "t = (df['tot_liab']==0).sum()\n",
    "\n",
    "df.loc[df['tot_liab']==0,'tot_liab'] = 1            # if tot_liab == 0     --> replace with 1\n",
    "\n",
    "print('\"tot_liab\" with value of \"0.0\" replaced with \"1.0\"',t,'instances')\n"
   ]
  },
  {
   "cell_type": "code",
   "execution_count": 18,
   "metadata": {},
   "outputs": [],
   "source": [
    "# Winsorizing technique not used in thesis!\n",
    "# df[fin_st_cols] = df[fin_st_cols].clip(lower=df.quantile(0.01), upper=df.quantile(0.99), axis=1)"
   ]
  },
  {
   "cell_type": "code",
   "execution_count": 19,
   "metadata": {},
   "outputs": [],
   "source": [
    "# SAVE THE FILE LOCALLY INTO .txt\n",
    "df.to_csv('df.txt')"
   ]
  }
 ],
 "metadata": {
  "kernelspec": {
   "display_name": "Python 3",
   "language": "python",
   "name": "python3"
  },
  "language_info": {
   "codemirror_mode": {
    "name": "ipython",
    "version": 3
   },
   "file_extension": ".py",
   "mimetype": "text/x-python",
   "name": "python",
   "nbconvert_exporter": "python",
   "pygments_lexer": "ipython3",
   "version": "3.7.7"
  }
 },
 "nbformat": 4,
 "nbformat_minor": 4
}
