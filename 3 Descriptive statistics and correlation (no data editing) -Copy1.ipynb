{
 "cells": [
  {
   "cell_type": "markdown",
   "metadata": {},
   "source": [
    "### Descriptive statistics and correlation of predictors (no data editing)"
   ]
  },
  {
   "cell_type": "code",
   "execution_count": 34,
   "metadata": {},
   "outputs": [],
   "source": [
    "import numpy as np\n",
    "import pandas as pd\n",
    "import matplotlib.pyplot as plt\n",
    "import seaborn as sns\n",
    "\n",
    "from scipy.stats import mannwhitneyu, kstest"
   ]
  },
  {
   "cell_type": "code",
   "execution_count": 3,
   "metadata": {},
   "outputs": [],
   "source": [
    "# ***** LOAD DATAFRAME: df2 *****\n",
    "\n",
    "path = \"C:/Users/Aleksi/ownCloud/Vaasan Yliopisto/Gradu/Python codes/FIN/New_Version/\"\n",
    "df2 = pd.read_csv(filepath_or_buffer=path+'df2.txt')\n",
    "df2.drop('Unnamed: 0',inplace=True,axis=1)\n",
    "\n",
    "b = df2['status']==1 # mask for bankrupt\n",
    "h = df2['status']==0 # mask for healthy/active"
   ]
  },
  {
   "cell_type": "code",
   "execution_count": 4,
   "metadata": {},
   "outputs": [],
   "source": [
    "def descriptive_stat(df):\n",
    "    \"\"\"This function returns a descriptive statistics from\n",
    "    columns of DataFrame: returns df object\"\"\"\n",
    "    \n",
    "    desc = df.describe()\n",
    "    desc.loc['median',:] = 0              # create empty row for median\n",
    "    ind = desc.index                      # get indexes\n",
    "    order = [0,1,len(ind)-1,2,3,4,5,6,7]  # create order for indexes\n",
    "    ind = [ind[i] for i in order]         # edit the original list\n",
    "    desc = desc.reindex(ind)              # reindex the df\n",
    "    \n",
    "    for col in df:\n",
    "        desc.loc['median',col] = df.loc[:,col].median()\n",
    "        \n",
    "    return round(desc,3)\n",
    "    "
   ]
  },
  {
   "cell_type": "code",
   "execution_count": 36,
   "metadata": {},
   "outputs": [],
   "source": [
    "# ****** KOLMOGOROV-SMIRNOV TEST *****\n",
    "#\n",
    "# KS tests the equality of the distributions\n",
    "\n",
    "# kstest()\n"
   ]
  },
  {
   "cell_type": "code",
   "execution_count": 47,
   "metadata": {},
   "outputs": [
    {
     "name": "stdout",
     "output_type": "stream",
     "text": [
      "          Value      p-value\n",
      "X1  9.93135e+07  2.64416e-61\n",
      "X2  5.70585e+07            0\n",
      "X3  6.31954e+07            0\n",
      "X4    4.228e+07            0\n"
     ]
    }
   ],
   "source": [
    "# ***** MANN WHITNEY U TEST *****\n",
    "#\n",
    "# The Mann-Whitney U-test tests the equality of medians\n",
    "\n",
    "x_pred = ['X1','X2','X3','X4'] \n",
    "mann_results = pd.DataFrame(columns=['Value','p-value'],index=x_pred)\n",
    "\n",
    "for i in range(len(t_0)):\n",
    "\n",
    "    mann_w = mannwhitneyu(df2.loc[b,x_pred[i]],df2.loc[h,x_pred[i]])\n",
    "    mann_results.iloc[i,0] = round(mann_w[0],2)\n",
    "    mann_results.iloc[i,1] = mann_w[1]    \n",
    "    \n",
    "print(mann_results)\n",
    "mann_results.to_csv('mann.txt')"
   ]
  },
  {
   "cell_type": "code",
   "execution_count": 43,
   "metadata": {},
   "outputs": [
    {
     "data": {
      "image/png": "[encoded data removed]",
      "text/plain": [
       "<Figure size 432x288 with 1 Axes>"
      ]
     },
     "metadata": {
      "needs_background": "light"
     },
     "output_type": "display_data"
    }
   ],
   "source": [
    "# ***** YEARS *****\n",
    "\n",
    "fig, axes = plt.subplots(1,1,  sharex=True)\n",
    "\n",
    "sns.distplot(df2.loc[b,'Last avail. year'])\n",
    "\n",
    "plt.tight_layout()\n",
    "plt.show()"
   ]
  },
  {
   "cell_type": "markdown",
   "metadata": {},
   "source": [
    "### Correlation of predictors"
   ]
  },
  {
   "cell_type": "code",
   "execution_count": 63,
   "metadata": {},
   "outputs": [
    {
     "data": {
      "text/html": [
       "<div>\n",
       "<style scoped>\n",
       "    .dataframe tbody tr th:only-of-type {\n",
       "        vertical-align: middle;\n",
       "    }\n",
       "\n",
       "    .dataframe tbody tr th {\n",
       "        vertical-align: top;\n",
       "    }\n",
       "\n",
       "    .dataframe thead th {\n",
       "        text-align: right;\n",
       "    }\n",
       "</style>\n",
       "<table border=\"1\" class=\"dataframe\">\n",
       "  <thead>\n",
       "    <tr style=\"text-align: right;\">\n",
       "      <th></th>\n",
       "      <th>X1</th>\n",
       "      <th>X2</th>\n",
       "      <th>X3</th>\n",
       "      <th>X4</th>\n",
       "    </tr>\n",
       "  </thead>\n",
       "  <tbody>\n",
       "    <tr>\n",
       "      <th>X1</th>\n",
       "      <td>1.000000</td>\n",
       "      <td>-0.293350</td>\n",
       "      <td>0.249892</td>\n",
       "      <td>-0.002799</td>\n",
       "    </tr>\n",
       "    <tr>\n",
       "      <th>X2</th>\n",
       "      <td>-0.293350</td>\n",
       "      <td>1.000000</td>\n",
       "      <td>-0.974026</td>\n",
       "      <td>0.000052</td>\n",
       "    </tr>\n",
       "    <tr>\n",
       "      <th>X3</th>\n",
       "      <td>0.249892</td>\n",
       "      <td>-0.974026</td>\n",
       "      <td>1.000000</td>\n",
       "      <td>-0.000277</td>\n",
       "    </tr>\n",
       "    <tr>\n",
       "      <th>X4</th>\n",
       "      <td>-0.002799</td>\n",
       "      <td>0.000052</td>\n",
       "      <td>-0.000277</td>\n",
       "      <td>1.000000</td>\n",
       "    </tr>\n",
       "  </tbody>\n",
       "</table>\n",
       "</div>"
      ],
      "text/plain": [
       "          X1        X2        X3        X4\n",
       "X1  1.000000 -0.293350  0.249892 -0.002799\n",
       "X2 -0.293350  1.000000 -0.974026  0.000052\n",
       "X3  0.249892 -0.974026  1.000000 -0.000277\n",
       "X4 -0.002799  0.000052 -0.000277  1.000000"
      ]
     },
     "execution_count": 63,
     "metadata": {},
     "output_type": "execute_result"
    }
   ],
   "source": [
    "# ***** CORRELATION OF PREDICTORS *****\n",
    "\n",
    "df2.loc[:,x_pred].corr()\n"
   ]
  },
  {
   "cell_type": "code",
   "execution_count": 62,
   "metadata": {},
   "outputs": [
    {
     "data": {
      "text/html": [
       "<div>\n",
       "<style scoped>\n",
       "    .dataframe tbody tr th:only-of-type {\n",
       "        vertical-align: middle;\n",
       "    }\n",
       "\n",
       "    .dataframe tbody tr th {\n",
       "        vertical-align: top;\n",
       "    }\n",
       "\n",
       "    .dataframe thead th {\n",
       "        text-align: right;\n",
       "    }\n",
       "</style>\n",
       "<table border=\"1\" class=\"dataframe\">\n",
       "  <thead>\n",
       "    <tr style=\"text-align: right;\">\n",
       "      <th></th>\n",
       "      <th>X1</th>\n",
       "      <th>X2</th>\n",
       "      <th>X3</th>\n",
       "      <th>X4</th>\n",
       "      <th>X1</th>\n",
       "      <th>X2</th>\n",
       "      <th>X3</th>\n",
       "      <th>X4</th>\n",
       "    </tr>\n",
       "  </thead>\n",
       "  <tbody>\n",
       "    <tr>\n",
       "      <th>count</th>\n",
       "      <td>94400.000</td>\n",
       "      <td>94400.000</td>\n",
       "      <td>94400.000</td>\n",
       "      <td>94400.000</td>\n",
       "      <td>2595.000</td>\n",
       "      <td>2595.000</td>\n",
       "      <td>2595.000</td>\n",
       "      <td>2595.000</td>\n",
       "    </tr>\n",
       "    <tr>\n",
       "      <th>mean</th>\n",
       "      <td>0.133</td>\n",
       "      <td>-0.040</td>\n",
       "      <td>0.076</td>\n",
       "      <td>203.161</td>\n",
       "      <td>-0.072</td>\n",
       "      <td>0.521</td>\n",
       "      <td>-0.438</td>\n",
       "      <td>-0.066</td>\n",
       "    </tr>\n",
       "    <tr>\n",
       "      <th>median</th>\n",
       "      <td>0.062</td>\n",
       "      <td>-0.044</td>\n",
       "      <td>0.066</td>\n",
       "      <td>0.609</td>\n",
       "      <td>0.015</td>\n",
       "      <td>0.135</td>\n",
       "      <td>-0.096</td>\n",
       "      <td>-0.201</td>\n",
       "    </tr>\n",
       "    <tr>\n",
       "      <th>std</th>\n",
       "      <td>0.512</td>\n",
       "      <td>1.830</td>\n",
       "      <td>1.983</td>\n",
       "      <td>14953.499</td>\n",
       "      <td>0.808</td>\n",
       "      <td>3.806</td>\n",
       "      <td>3.640</td>\n",
       "      <td>1.989</td>\n",
       "    </tr>\n",
       "    <tr>\n",
       "      <th>min</th>\n",
       "      <td>-119.129</td>\n",
       "      <td>-349.217</td>\n",
       "      <td>-257.625</td>\n",
       "      <td>-6.333</td>\n",
       "      <td>-11.909</td>\n",
       "      <td>-4.000</td>\n",
       "      <td>-161.722</td>\n",
       "      <td>-1.000</td>\n",
       "    </tr>\n",
       "    <tr>\n",
       "      <th>25%</th>\n",
       "      <td>0.000</td>\n",
       "      <td>-0.138</td>\n",
       "      <td>0.000</td>\n",
       "      <td>0.101</td>\n",
       "      <td>-0.152</td>\n",
       "      <td>-0.007</td>\n",
       "      <td>-0.397</td>\n",
       "      <td>-0.516</td>\n",
       "    </tr>\n",
       "    <tr>\n",
       "      <th>50%</th>\n",
       "      <td>0.062</td>\n",
       "      <td>-0.044</td>\n",
       "      <td>0.066</td>\n",
       "      <td>0.609</td>\n",
       "      <td>0.015</td>\n",
       "      <td>0.135</td>\n",
       "      <td>-0.096</td>\n",
       "      <td>-0.201</td>\n",
       "    </tr>\n",
       "    <tr>\n",
       "      <th>75%</th>\n",
       "      <td>0.252</td>\n",
       "      <td>0.003</td>\n",
       "      <td>0.176</td>\n",
       "      <td>2.100</td>\n",
       "      <td>0.243</td>\n",
       "      <td>0.472</td>\n",
       "      <td>0.041</td>\n",
       "      <td>0.080</td>\n",
       "    </tr>\n",
       "    <tr>\n",
       "      <th>max</th>\n",
       "      <td>4.000</td>\n",
       "      <td>268.900</td>\n",
       "      <td>361.043</td>\n",
       "      <td>3149999.000</td>\n",
       "      <td>1.000</td>\n",
       "      <td>166.644</td>\n",
       "      <td>4.125</td>\n",
       "      <td>90.000</td>\n",
       "    </tr>\n",
       "  </tbody>\n",
       "</table>\n",
       "</div>"
      ],
      "text/plain": [
       "               X1         X2         X3           X4        X1        X2  \\\n",
       "count   94400.000  94400.000  94400.000    94400.000  2595.000  2595.000   \n",
       "mean        0.133     -0.040      0.076      203.161    -0.072     0.521   \n",
       "median      0.062     -0.044      0.066        0.609     0.015     0.135   \n",
       "std         0.512      1.830      1.983    14953.499     0.808     3.806   \n",
       "min      -119.129   -349.217   -257.625       -6.333   -11.909    -4.000   \n",
       "25%         0.000     -0.138      0.000        0.101    -0.152    -0.007   \n",
       "50%         0.062     -0.044      0.066        0.609     0.015     0.135   \n",
       "75%         0.252      0.003      0.176        2.100     0.243     0.472   \n",
       "max         4.000    268.900    361.043  3149999.000     1.000   166.644   \n",
       "\n",
       "              X3        X4  \n",
       "count   2595.000  2595.000  \n",
       "mean      -0.438    -0.066  \n",
       "median    -0.096    -0.201  \n",
       "std        3.640     1.989  \n",
       "min     -161.722    -1.000  \n",
       "25%       -0.397    -0.516  \n",
       "50%       -0.096    -0.201  \n",
       "75%        0.041     0.080  \n",
       "max        4.125    90.000  "
      ]
     },
     "execution_count": 62,
     "metadata": {},
     "output_type": "execute_result"
    }
   ],
   "source": [
    "pd.concat([ descriptive_stat(df2.loc[h,['X1','X2','X3','X4']]) ,\n",
    "           \n",
    "           descriptive_stat(df2.loc[b,['X1','X2','X3','X4']])]  ,axis=1)\n",
    "           \n",
    "           \n",
    "           \n",
    "           \n",
    "           \n",
    "           "
   ]
  },
  {
   "cell_type": "code",
   "execution_count": null,
   "metadata": {},
   "outputs": [],
   "source": []
  }
 ],
 "metadata": {
  "kernelspec": {
   "display_name": "Python 3",
   "language": "python",
   "name": "python3"
  },
  "language_info": {
   "codemirror_mode": {
    "name": "ipython",
    "version": 3
   },
   "file_extension": ".py",
   "mimetype": "text/x-python",
   "name": "python",
   "nbconvert_exporter": "python",
   "pygments_lexer": "ipython3",
   "version": "3.7.7"
  }
 },
 "nbformat": 4,
 "nbformat_minor": 4
}
