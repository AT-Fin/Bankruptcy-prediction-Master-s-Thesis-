{
 "cells": [
  {
   "cell_type": "code",
   "execution_count": 2,
   "metadata": {},
   "outputs": [],
   "source": [
    "import numpy as np\n",
    "import pandas as pd\n",
    "import matplotlib.pyplot as plt"
   ]
  },
  {
   "cell_type": "code",
   "execution_count": 3,
   "metadata": {
    "scrolled": true
   },
   "outputs": [
    {
     "name": "stdout",
     "output_type": "stream",
     "text": [
      "Bankrupt: 2602 Healthy: 95056 out of 97658 \n",
      "\n",
      " Size: (97658, 17)\n"
     ]
    }
   ],
   "source": [
    "# ***** LOAD DATAFRAME *****\n",
    "\n",
    "path = \"C:/Users/Aleksi/ownCloud/Vaasan Yliopisto/Gradu/Python codes/FIN/New_version/\"\n",
    "df = pd.read_csv(filepath_or_buffer=path+'df.txt')\n",
    "\n",
    "print('Bankrupt:',np.sum(df['status']==1),'Healthy:',np.sum(df['status']==0), 'out of', len(df), 2*'\\n',\n",
    "      'Size:',df.shape)\n",
    "\n",
    "b = df['status']==1 # mask for bankrupt\n",
    "h = df['status']==0 # mask for healthy/active"
   ]
  },
  {
   "cell_type": "markdown",
   "metadata": {},
   "source": [
    "## Firm specific variables"
   ]
  },
  {
   "cell_type": "code",
   "execution_count": 5,
   "metadata": {},
   "outputs": [],
   "source": [
    "# ****** RETAINED EARNINGS ****** \n",
    "\n",
    "# ret_earn = shareholdeers funds - capital - other shareholders funds - P/L for period\n",
    "\n",
    "# t=0\n",
    "df['ret_earn'] = (df['Shareholders funds EUR Last avail. yr'] - \n",
    "                  df['Capital EUR Last avail. yr'] -\n",
    "                  df['Other shareholders funds EUR Last avail. yr'] - \n",
    "                  df['P/L for period [=Net income] EUR Last avail. yr'])\n",
    "\n",
    "\n",
    "\n",
    "\n",
    "# ****** BOOK VALUE ******\n",
    "\n",
    "# bv = total assets (tot.shareh.funds&liab.) - intangible fixed ass. - tot.liab.\n",
    "\n",
    "df['bv'] = (df['Total assets EUR Last avail. yr'] - \n",
    "            df['Intangible fixed assets EUR Last avail. yr'] - \n",
    "            df['tot_liab'])\n",
    "\n",
    "\n",
    "\n",
    "# ****** Z-SCORE VARIABLES ******\n",
    "#           x1 x2 x3 x4\n",
    "\n",
    "df['X1'] = df.loc[:,'Working capital EUR Last avail. yr']/df.loc[:,'Total assets EUR Last avail. yr']\n",
    "df['X2'] = df.loc[:,'ret_earn']/df.loc[:,'Total assets EUR Last avail. yr']\n",
    "df['X3'] = df.loc[:,'Operating P/L [=EBIT] EUR Last avail. yr']/df.loc[:,'Total assets EUR Last avail. yr']\n",
    "df['X4'] = df.loc[:,'bv']/df.loc[:,'tot_liab']\n"
   ]
  },
  {
   "cell_type": "markdown",
   "metadata": {},
   "source": [
    "## Macro economic variables"
   ]
  },
  {
   "cell_type": "code",
   "execution_count": 6,
   "metadata": {},
   "outputs": [],
   "source": [
    "macro_path = \"C:/Users/Aleksi/ownCloud/Vaasan Yliopisto/Gradu/Raw Data/Macro Data/\""
   ]
  },
  {
   "cell_type": "markdown",
   "metadata": {},
   "source": [
    "#### GDP (change %)"
   ]
  },
  {
   "cell_type": "code",
   "execution_count": 7,
   "metadata": {},
   "outputs": [
    {
     "name": "stdout",
     "output_type": "stream",
     "text": [
      "Deleting year == 2020 leaves out 659 observations where bankrupt 7\n"
     ]
    }
   ],
   "source": [
    "# import data\n",
    "gdp = pd.read_csv(filepath_or_buffer=macro_path+'GDP (eurostat)/nama_10_gdp_1_Data.csv', na_values=[':',''] )\n",
    "\n",
    "# keep only necessary data\n",
    "gdp = gdp.loc[gdp['UNIT']=='Chain linked volumes (2010), million euro',['TIME','UNIT','Value']]\n",
    "gdp.dropna(inplace=True)\n",
    "\n",
    "gdp.reset_index(inplace=True, drop=True)\n",
    "\n",
    "# modify blank space in string and change to numeric\n",
    "gdp['Value'] = gdp['Value'].str.replace(\" \",\"\")\n",
    "gdp['Value'] = pd.to_numeric(gdp['Value'])\n",
    "\n",
    "# add two columns: lagged and % change \n",
    "gdp['lagged -1'] = gdp['Value'].shift(periods=1)\n",
    "gdp['change %'] = ((gdp['Value']/gdp['lagged -1'])-1)*100\n",
    "\n",
    "\n",
    "print('Deleting year == 2020 leaves out',(df['Last avail. year']== 2020).sum(), \n",
    "      'observations where bankrupt',\n",
    "      ((df['Last avail. year']== 2020)&(df['status']== 1)).sum())\n",
    "\n",
    "# 2020 GDP not known --> so need to delete corresponding rows from df\n",
    "df = df.loc[(df['Last avail. year']!= 2020), :]\n",
    "\n",
    "# make a dictionary for mapping and map\n",
    "gdp_dict = (gdp.loc[:,['TIME','change %']]).set_index('TIME').to_dict()\n",
    "\n",
    "# add new column 'GDP change %' to df \n",
    "df['GDP change %'] = list(map(lambda x: gdp_dict['change %'][x], df['Last avail. year']))\n"
   ]
  },
  {
   "cell_type": "markdown",
   "metadata": {},
   "source": [
    "#### Household debt & Interest as proportion usable income (%)"
   ]
  },
  {
   "cell_type": "code",
   "execution_count": 8,
   "metadata": {
    "scrolled": true
   },
   "outputs": [],
   "source": [
    "# household debt & interest are a percentage(%) of usable income (=Finnish definition)\n",
    "hh_debt_int = pd.read_csv(filepath_or_buffer=macro_path+'Household debt and interest/Household debt and interest.csv',\n",
    "                         delimiter = ';')\n",
    "hh_debt_int.dropna(inplace=True)\n",
    "\n",
    "# change the column names\n",
    "hh_debt_int.columns = ['Date','Household debt %','Household interest %']\n",
    "\n",
    "# distinguish the years --> list\n",
    "hh_debt_int['Date'] = hh_debt_int['Date'].str.split('.')\n",
    "\n",
    "# remove dates, leave 'Date' as int\n",
    "for i in range(len(hh_debt_int['Date'])):\n",
    "    hh_debt_int['Date'][i] = int(hh_debt_int['Date'][i][2])\n",
    "\n",
    "# remove whitespaces\n",
    "hh_debt_int.loc[:,'Household debt %'] = hh_debt_int.loc[:,'Household debt %'].str.strip()\n",
    "hh_debt_int.loc[:,'Household interest %'] = hh_debt_int.loc[:,'Household interest %'].str.strip()\n",
    "\n",
    "# replace ',' with '.' and change to numeric  \n",
    "hh_debt_int['Household debt %'] = pd.to_numeric(hh_debt_int['Household debt %'].str.replace(',','.'))\n",
    "hh_debt_int['Household interest %'] = pd.to_numeric(hh_debt_int['Household interest %'].str.replace(',','.'))  \n",
    "    \n",
    "# take average of quarters \n",
    "hh_debt_int = hh_debt_int.groupby(['Date']).mean()\n",
    "\n",
    "# make dictionary\n",
    "hh_dict = (hh_debt_int.loc[:,['Household debt %','Household interest %']]).to_dict()\n",
    "\n",
    "# add new column 'Household debt %' and 'Household interest %'(map function) to df \n",
    "df['Household debt %'] = list(map(lambda x: hh_dict['Household debt %'][x], df['Last avail. year']))\n",
    "df['Household interest %'] = list(map(lambda x: hh_dict['Household interest %'][x], df['Last avail. year']))\n"
   ]
  },
  {
   "cell_type": "markdown",
   "metadata": {},
   "source": [
    "#### Money Supply (M3)"
   ]
  },
  {
   "cell_type": "code",
   "execution_count": 9,
   "metadata": {},
   "outputs": [],
   "source": [
    "# ***** M3 MONEY SUPPLY *****\n",
    "\n",
    "M3 = pd.read_csv(filepath_or_buffer=macro_path+'M3/M3.csv', sep=',' )\n",
    "\n",
    "# extract the year and remove unnecessary values\n",
    "M3 = M3.iloc[:,0].str.split(',', expand=True)\n",
    "M3 = M3.iloc[:,[0,3]]\n",
    "M3.iloc[:,0] = M3.iloc[:,0].str.split('-')\n",
    "\n",
    "for i in range(len(M3)):\n",
    "    \n",
    "    M3.iloc[i,0] = M3.iloc[i,0][0]\n",
    "\n",
    "M3.iloc[:,0] = pd.to_numeric(M3.iloc[:,0])\n",
    "M3.iloc[:,1] = pd.to_numeric(M3.iloc[:,1])\n",
    "\n",
    "# calculate the yearly change\n",
    "M3.columns = ['Year','M3 supply']\n",
    "M3 = M3.groupby(['Year']).mean()\n",
    "\n",
    "M3['change %'] = ((M3.loc[:,'M3 supply'])/(M3['M3 supply'].shift(periods=1))-1)*100\n",
    "M3['change % -1'] = M3['change %'].shift(periods=1)\n",
    "\n",
    "M3_dict = (M3.loc[:,'change %']).to_dict()\n",
    "M3_dict_1 = (M3.loc[:,'change % -1']).to_dict()\n",
    "\n",
    "df = df [df['Last avail. year']>= 1999]  # no M3 data before 1999!\n",
    "df['M3'] = list(map(lambda x: M3_dict[x], df['Last avail. year']))\n",
    "df['M3 -1'] = list(map(lambda x: M3_dict_1[x], df['Last avail. year'])) # NA !!!"
   ]
  },
  {
   "cell_type": "code",
   "execution_count": 10,
   "metadata": {},
   "outputs": [
    {
     "data": {
      "image/png": "[encoded data removed]",
      "text/plain": [
       "<Figure size 432x288 with 1 Axes>"
      ]
     },
     "metadata": {
      "needs_background": "light"
     },
     "output_type": "display_data"
    }
   ],
   "source": [
    "plt.plot(*zip(*M3_dict.items()))\n",
    "plt.show()"
   ]
  },
  {
   "cell_type": "code",
   "execution_count": 11,
   "metadata": {},
   "outputs": [],
   "source": [
    "# save df as 'df2.txt' csv-file\n",
    "df.to_csv('df2.txt')"
   ]
  }
 ],
 "metadata": {
  "kernelspec": {
   "display_name": "Python 3",
   "language": "python",
   "name": "python3"
  },
  "language_info": {
   "codemirror_mode": {
    "name": "ipython",
    "version": 3
   },
   "file_extension": ".py",
   "mimetype": "text/x-python",
   "name": "python",
   "nbconvert_exporter": "python",
   "pygments_lexer": "ipython3",
   "version": "3.7.7"
  }
 },
 "nbformat": 4,
 "nbformat_minor": 4
}
